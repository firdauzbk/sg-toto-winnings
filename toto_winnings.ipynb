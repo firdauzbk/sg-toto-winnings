{
 "cells": [
  {
   "cell_type": "code",
   "execution_count": 13,
   "id": "bbf3f369",
   "metadata": {},
   "outputs": [],
   "source": [
    "import pandas as pd\n",
    "import matplotlib.pyplot as plt\n",
    "import seaborn as sns"
   ]
  },
  {
   "cell_type": "code",
   "execution_count": 16,
   "id": "c2a43077",
   "metadata": {},
   "outputs": [],
   "source": [
    "# Load the dataset\n",
    "file_path = 'toto_win_number.csv'\n",
    "df = pd.read_csv(file_path)"
   ]
  },
  {
   "cell_type": "code",
   "execution_count": 19,
   "id": "87080eb7",
   "metadata": {},
   "outputs": [
    {
     "name": "stdout",
     "output_type": "stream",
     "text": [
      "   Draw       Date  Winning Number 1  Winning Number 2  Winning Number 3  \\\n",
      "0  3766  19/5/2022                 5                 8                13   \n",
      "1  3765  16/5/2022                21                22                40   \n",
      "2  3764  12/5/2022                15                20                36   \n",
      "3  3763   9/5/2022                 5                12                15   \n",
      "4  3762   5/5/2022                 7                13                35   \n",
      "\n",
      "   Winning Number 4  Winning Number 5  Winning Number 6  Additional Number   \\\n",
      "0                20                21                46                  31   \n",
      "1                41                42                46                   9   \n",
      "2                38                41                46                  10   \n",
      "3                21                30                39                   6   \n",
      "4                39                41                45                   1   \n",
      "\n",
      "  From Last  ...  Division 3 Winners  Division 3 Prize  Division 4 Winners  \\\n",
      "0     21,46  ...               331.0            1136.0               712.0   \n",
      "1     41,46  ...                86.0            2693.0               284.0   \n",
      "2        15  ...                95.0            1754.0               194.0   \n",
      "3        39  ...               159.0            1083.0               482.0   \n",
      "4        35  ...               107.0            2180.0               292.0   \n",
      "\n",
      "   Division 4 Prize  Division 5 Winners  Division 5 Prize  Division 6 Winners  \\\n",
      "0             288.0             14856.0              50.0             17820.0   \n",
      "1             445.0              5535.0              50.0              8646.0   \n",
      "2             469.0              3928.0              50.0              5675.0   \n",
      "3             195.0              7834.0              50.0             10850.0   \n",
      "4             436.0              6063.0              50.0              8549.0   \n",
      "\n",
      "   Division 6 Prize  Division 7 Winners  Division 7 Prize  \n",
      "0              25.0            242878.0              10.0  \n",
      "1              25.0            106255.0              10.0  \n",
      "2              25.0             73058.0              10.0  \n",
      "3              25.0            117050.0              10.0  \n",
      "4              25.0            115244.0              10.0  \n",
      "\n",
      "[5 rows x 31 columns]\n",
      "              Draw  Winning Number 1  Winning Number 2  Winning Number 3  \\\n",
      "count  1426.000000       1426.000000       1426.000000       1426.000000   \n",
      "mean   3053.500000          6.807153         13.658485         20.488079   \n",
      "std     411.795054          5.399413          7.034087          7.764711   \n",
      "min    2341.000000          1.000000          2.000000          3.000000   \n",
      "25%    2697.250000          3.000000          8.000000         15.000000   \n",
      "50%    3053.500000          5.000000         13.000000         20.000000   \n",
      "75%    3409.750000          9.000000         18.000000         26.000000   \n",
      "max    3766.000000         35.000000         38.000000         43.000000   \n",
      "\n",
      "       Winning Number 4  Winning Number 5  Winning Number 6  \\\n",
      "count       1426.000000       1426.000000       1426.000000   \n",
      "mean          27.498597         34.237027         41.169705   \n",
      "std            7.779347          7.232863          5.890637   \n",
      "min            7.000000         12.000000         13.000000   \n",
      "25%           22.000000         29.000000         38.000000   \n",
      "50%           28.000000         35.000000         43.000000   \n",
      "75%           33.000000         40.000000         45.000000   \n",
      "max           46.000000         48.000000         49.000000   \n",
      "\n",
      "       Additional Number           Odd         Even  ...  Division 3 Winners  \\\n",
      "count         1426.000000  1426.000000  1426.000000  ...         1114.000000   \n",
      "mean            24.055400     3.051192     2.948808  ...          202.269300   \n",
      "std             13.755933     1.125545     1.125545  ...          166.034109   \n",
      "min              1.000000     0.000000     0.000000  ...            1.000000   \n",
      "25%             12.250000     2.000000     2.000000  ...           99.250000   \n",
      "50%             24.000000     3.000000     3.000000  ...          156.000000   \n",
      "75%             35.000000     4.000000     4.000000  ...          241.000000   \n",
      "max             49.000000     6.000000     6.000000  ...         1900.000000   \n",
      "\n",
      "       Division 3 Prize  Division 4 Winners  Division 4 Prize  \\\n",
      "count       1114.000000         1114.000000       1114.000000   \n",
      "mean        1627.771095          478.370736        419.998205   \n",
      "std          480.795579          410.360210        120.954411   \n",
      "min          335.000000            1.000000        106.000000   \n",
      "25%         1304.500000          248.250000        343.000000   \n",
      "50%         1612.000000          372.500000        409.500000   \n",
      "75%         1916.500000          584.000000        488.750000   \n",
      "max         3689.000000         5248.000000        786.000000   \n",
      "\n",
      "       Division 5 Winners  Division 5 Prize  Division 6 Winners  \\\n",
      "count         1114.000000       1114.000000         1114.000000   \n",
      "mean          7804.855476         43.859964        10457.086176   \n",
      "std           7894.675185          9.229146        10773.809974   \n",
      "min              6.000000         30.000000            9.000000   \n",
      "25%           4267.000000         30.000000         5694.750000   \n",
      "50%           6216.000000         50.000000         8323.500000   \n",
      "75%           9638.750000         50.000000        12920.000000   \n",
      "max          91730.000000         50.000000       135298.000000   \n",
      "\n",
      "       Division 6 Prize  Division 7 Winners  Division 7 Prize  \n",
      "count       1114.000000        7.720000e+02             772.0  \n",
      "mean          23.464991        1.490537e+05              10.0  \n",
      "std            2.307287        1.145184e+05               0.0  \n",
      "min           20.000000        5.532000e+04              10.0  \n",
      "25%           20.000000        9.132950e+04              10.0  \n",
      "50%           25.000000        1.152295e+05              10.0  \n",
      "75%           25.000000        1.553988e+05              10.0  \n",
      "max           25.000000        1.351914e+06              10.0  \n",
      "\n",
      "[8 rows x 29 columns]\n"
     ]
    }
   ],
   "source": [
    "# Basic data overview\n",
    "print(df.head())\n",
    "print(df.describe())"
   ]
  },
  {
   "cell_type": "code",
   "execution_count": 21,
   "id": "d7930f29",
   "metadata": {},
   "outputs": [
    {
     "ename": "KeyError",
     "evalue": "\"['Additional Number'] not in index\"",
     "output_type": "error",
     "traceback": [
      "\u001b[1;31m---------------------------------------------------------------------------\u001b[0m",
      "\u001b[1;31mKeyError\u001b[0m                                  Traceback (most recent call last)",
      "\u001b[1;32mc:\\Users\\DESKTOP\\Desktop\\University\\C\\toto_winnings.ipynb Cell 4\u001b[0m line \u001b[0;36m2\n\u001b[0;32m      <a href='vscode-notebook-cell:/c%3A/Users/DESKTOP/Desktop/University/C/toto_winnings.ipynb#W3sZmlsZQ%3D%3D?line=0'>1</a>\u001b[0m \u001b[39m# Frequency distribution of each winning number\u001b[39;00m\n\u001b[1;32m----> <a href='vscode-notebook-cell:/c%3A/Users/DESKTOP/Desktop/University/C/toto_winnings.ipynb#W3sZmlsZQ%3D%3D?line=1'>2</a>\u001b[0m winning_numbers \u001b[39m=\u001b[39m df[[\u001b[39m'\u001b[39;49m\u001b[39mWinning Number 1\u001b[39;49m\u001b[39m'\u001b[39;49m, \u001b[39m'\u001b[39;49m\u001b[39mWinning Number 2\u001b[39;49m\u001b[39m'\u001b[39;49m, \u001b[39m'\u001b[39;49m\u001b[39mWinning Number 3\u001b[39;49m\u001b[39m'\u001b[39;49m, \n\u001b[0;32m      <a href='vscode-notebook-cell:/c%3A/Users/DESKTOP/Desktop/University/C/toto_winnings.ipynb#W3sZmlsZQ%3D%3D?line=2'>3</a>\u001b[0m                       \u001b[39m'\u001b[39;49m\u001b[39mWinning Number 4\u001b[39;49m\u001b[39m'\u001b[39;49m, \u001b[39m'\u001b[39;49m\u001b[39mWinning Number 5\u001b[39;49m\u001b[39m'\u001b[39;49m, \u001b[39m'\u001b[39;49m\u001b[39mWinning Number 6\u001b[39;49m\u001b[39m'\u001b[39;49m, \n\u001b[0;32m      <a href='vscode-notebook-cell:/c%3A/Users/DESKTOP/Desktop/University/C/toto_winnings.ipynb#W3sZmlsZQ%3D%3D?line=3'>4</a>\u001b[0m                       \u001b[39m'\u001b[39;49m\u001b[39mAdditional Number\u001b[39;49m\u001b[39m'\u001b[39;49m]]\u001b[39m.\u001b[39mapply(pd\u001b[39m.\u001b[39mSeries\u001b[39m.\u001b[39mvalue_counts)\u001b[39m.\u001b[39mfillna(\u001b[39m0\u001b[39m)\n",
      "File \u001b[1;32mc:\\Users\\DESKTOP\\AppData\\Local\\Programs\\Python\\Python310\\lib\\site-packages\\pandas\\core\\frame.py:3813\u001b[0m, in \u001b[0;36mDataFrame.__getitem__\u001b[1;34m(self, key)\u001b[0m\n\u001b[0;32m   3811\u001b[0m     \u001b[39mif\u001b[39;00m is_iterator(key):\n\u001b[0;32m   3812\u001b[0m         key \u001b[39m=\u001b[39m \u001b[39mlist\u001b[39m(key)\n\u001b[1;32m-> 3813\u001b[0m     indexer \u001b[39m=\u001b[39m \u001b[39mself\u001b[39;49m\u001b[39m.\u001b[39;49mcolumns\u001b[39m.\u001b[39;49m_get_indexer_strict(key, \u001b[39m\"\u001b[39;49m\u001b[39mcolumns\u001b[39;49m\u001b[39m\"\u001b[39;49m)[\u001b[39m1\u001b[39m]\n\u001b[0;32m   3815\u001b[0m \u001b[39m# take() does not accept boolean indexers\u001b[39;00m\n\u001b[0;32m   3816\u001b[0m \u001b[39mif\u001b[39;00m \u001b[39mgetattr\u001b[39m(indexer, \u001b[39m\"\u001b[39m\u001b[39mdtype\u001b[39m\u001b[39m\"\u001b[39m, \u001b[39mNone\u001b[39;00m) \u001b[39m==\u001b[39m \u001b[39mbool\u001b[39m:\n",
      "File \u001b[1;32mc:\\Users\\DESKTOP\\AppData\\Local\\Programs\\Python\\Python310\\lib\\site-packages\\pandas\\core\\indexes\\base.py:6070\u001b[0m, in \u001b[0;36mIndex._get_indexer_strict\u001b[1;34m(self, key, axis_name)\u001b[0m\n\u001b[0;32m   6067\u001b[0m \u001b[39melse\u001b[39;00m:\n\u001b[0;32m   6068\u001b[0m     keyarr, indexer, new_indexer \u001b[39m=\u001b[39m \u001b[39mself\u001b[39m\u001b[39m.\u001b[39m_reindex_non_unique(keyarr)\n\u001b[1;32m-> 6070\u001b[0m \u001b[39mself\u001b[39;49m\u001b[39m.\u001b[39;49m_raise_if_missing(keyarr, indexer, axis_name)\n\u001b[0;32m   6072\u001b[0m keyarr \u001b[39m=\u001b[39m \u001b[39mself\u001b[39m\u001b[39m.\u001b[39mtake(indexer)\n\u001b[0;32m   6073\u001b[0m \u001b[39mif\u001b[39;00m \u001b[39misinstance\u001b[39m(key, Index):\n\u001b[0;32m   6074\u001b[0m     \u001b[39m# GH 42790 - Preserve name from an Index\u001b[39;00m\n",
      "File \u001b[1;32mc:\\Users\\DESKTOP\\AppData\\Local\\Programs\\Python\\Python310\\lib\\site-packages\\pandas\\core\\indexes\\base.py:6133\u001b[0m, in \u001b[0;36mIndex._raise_if_missing\u001b[1;34m(self, key, indexer, axis_name)\u001b[0m\n\u001b[0;32m   6130\u001b[0m     \u001b[39mraise\u001b[39;00m \u001b[39mKeyError\u001b[39;00m(\u001b[39mf\u001b[39m\u001b[39m\"\u001b[39m\u001b[39mNone of [\u001b[39m\u001b[39m{\u001b[39;00mkey\u001b[39m}\u001b[39;00m\u001b[39m] are in the [\u001b[39m\u001b[39m{\u001b[39;00maxis_name\u001b[39m}\u001b[39;00m\u001b[39m]\u001b[39m\u001b[39m\"\u001b[39m)\n\u001b[0;32m   6132\u001b[0m not_found \u001b[39m=\u001b[39m \u001b[39mlist\u001b[39m(ensure_index(key)[missing_mask\u001b[39m.\u001b[39mnonzero()[\u001b[39m0\u001b[39m]]\u001b[39m.\u001b[39munique())\n\u001b[1;32m-> 6133\u001b[0m \u001b[39mraise\u001b[39;00m \u001b[39mKeyError\u001b[39;00m(\u001b[39mf\u001b[39m\u001b[39m\"\u001b[39m\u001b[39m{\u001b[39;00mnot_found\u001b[39m}\u001b[39;00m\u001b[39m not in index\u001b[39m\u001b[39m\"\u001b[39m)\n",
      "\u001b[1;31mKeyError\u001b[0m: \"['Additional Number'] not in index\""
     ]
    }
   ],
   "source": [
    "# Frequency distribution of each winning number\n",
    "winning_numbers = df[['Winning Number 1', 'Winning Number 2', 'Winning Number 3', \n",
    "                      'Winning Number 4', 'Winning Number 5', 'Winning Number 6', \n",
    "                      'Additional Number']].apply(pd.Series.value_counts).fillna(0)\n"
   ]
  },
  {
   "cell_type": "code",
   "execution_count": null,
   "id": "81082f51",
   "metadata": {},
   "outputs": [],
   "source": [
    "# Plotting the frequency distribution\n",
    "plt.figure(figsize=(15, 8))\n",
    "sns.heatmap(winning_numbers, cmap='viridis')\n",
    "plt.title('Frequency Distribution of Winning Numbers')\n",
    "plt.xlabel('Winning Numbers')\n",
    "plt.ylabel('Frequency')\n",
    "plt.show()"
   ]
  },
  {
   "cell_type": "code",
   "execution_count": null,
   "id": "1208ad91",
   "metadata": {},
   "outputs": [],
   "source": [
    "# Time series analysis (if date is in proper format)\n",
    "df['Date'] = pd.to_datetime(df['Date'])\n",
    "df.set_index('Date', inplace=True)\n",
    "df['Year'] = df.index.year\n",
    "yearly_counts = df.groupby('Year').size()"
   ]
  },
  {
   "cell_type": "code",
   "execution_count": null,
   "id": "618dd771",
   "metadata": {},
   "outputs": [],
   "source": [
    "\n",
    "plt.figure(figsize=(12, 6))\n",
    "yearly_counts.plot(kind='line')\n",
    "plt.title('Number of Draws per Year')\n",
    "plt.xlabel('Year')\n",
    "plt.ylabel('Number of Draws')\n",
    "plt.show()"
   ]
  }
 ],
 "metadata": {
  "kernelspec": {
   "display_name": "Python 3 (ipykernel)",
   "language": "python",
   "name": "python3"
  },
  "language_info": {
   "codemirror_mode": {
    "name": "ipython",
    "version": 3
   },
   "file_extension": ".py",
   "mimetype": "text/x-python",
   "name": "python",
   "nbconvert_exporter": "python",
   "pygments_lexer": "ipython3",
   "version": "3.10.0"
  }
 },
 "nbformat": 4,
 "nbformat_minor": 5
}
